{
 "cells": [
  {
   "cell_type": "code",
   "execution_count": 2,
   "metadata": {},
   "outputs": [],
   "source": [
    "import numpy as np\n",
    "import matplotlib.pyplot as plt\n",
    "from ipywidgets import *"
   ]
  },
  {
   "cell_type": "code",
   "execution_count": 3,
   "metadata": {
    "scrolled": false
   },
   "outputs": [
    {
     "data": {
      "application/vnd.jupyter.widget-view+json": {
       "model_id": "35d5132cd43d45ba98af921045c6d5da",
       "version_major": 2,
       "version_minor": 0
      },
      "text/plain": [
       "interactive(children=(IntSlider(value=5, description='L', max=10, min=1), IntSlider(value=5, description='n', …"
      ]
     },
     "metadata": {},
     "output_type": "display_data"
    }
   ],
   "source": [
    "@interact\n",
    "def wave_func(L=(1,10,1),n=(1,10,1)):\n",
    "    x=np.linspace(0,L,1000)\n",
    "    z=np.linspace(-10,10,100)\n",
    "    c=np.array([L for i in range(0,100)])\n",
    "    psi=np.sqrt(2/L)*np.sin(n*np.pi*x/L)\n",
    "    plt.plot(x,psi)\n",
    "    plt.plot(c,z,\"k\")\n",
    "    plt.plot([i for i in range(0,L+1)],[0 for i in range(0,L+1)],\"k\")\n",
    "    plt.ylim(-1.5,2.2)\n",
    "    plt.grid(True)\n",
    "    plt.xlim(0,L+1)\n",
    "    plt.legend([\"L=\"+str(L)+\" units\\n\"+\"n=\"+str(n)])\n",
    "    f=\"$\\Psi_\"+str(n)+\"(x)$\"\n",
    "    plt.ylabel(f)\n",
    "    plt.title(f+\" vs x\")\n",
    "    plt.xlabel(\"$x$\")\n",
    "    plt.show()\n",
    "    \n",
    "    plt.plot(x,psi**2,\"r\")\n",
    "    plt.grid(True)\n",
    "    plt.plot(c,z,\"k\")\n",
    "    g=\"$|\\Psi_\"+str(n)+\"(x)|^{2}$\"\n",
    "    plt.plot([i for i in range(0,L+1)],[0 for i in range(0,L+1)],\"k\")\n",
    "    plt.ylabel(\"|$\\Psi(x)|^{2}$\")\n",
    "    plt.title(g+\" vs x\")\n",
    "    plt.xlabel(\"$x$\")\n",
    "    plt.xlim(0,L+1)\n",
    "    plt.ylim(-0.2,2.2)\n",
    "    plt.legend([\"L=\"+str(L)+\" units\\n\"+\"n=\"+str(n)])\n",
    "    return"
   ]
  }
 ],
 "metadata": {
  "kernelspec": {
   "display_name": "Python 3",
   "language": "python",
   "name": "python3"
  },
  "language_info": {
   "codemirror_mode": {
    "name": "ipython",
    "version": 3
   },
   "file_extension": ".py",
   "mimetype": "text/x-python",
   "name": "python",
   "nbconvert_exporter": "python",
   "pygments_lexer": "ipython3",
   "version": "3.7.1"
  },
  "widgets": {
   "application/vnd.jupyter.widget-state+json": {
    "state": {
     "1194c3f0db524a9d84083c96d5fc7ab6": {
      "model_module": "@jupyter-widgets/base",
      "model_module_version": "1.1.0",
      "model_name": "LayoutModel",
      "state": {}
     },
     "2833a486a19944adadb8bafa6b45c922": {
      "model_module": "@jupyter-widgets/controls",
      "model_module_version": "1.4.0",
      "model_name": "SliderStyleModel",
      "state": {
       "description_width": ""
      }
     },
     "362ba90b541648819d1880cb4c21f5cb": {
      "model_module": "@jupyter-widgets/base",
      "model_module_version": "1.1.0",
      "model_name": "LayoutModel",
      "state": {}
     },
     "459b4a84eeba474982d99d4807e26f17": {
      "model_module": "@jupyter-widgets/controls",
      "model_module_version": "1.4.0",
      "model_name": "IntSliderModel",
      "state": {
       "description": "L",
       "layout": "IPY_MODEL_f94c43922f1f452a811d7f2078c87462",
       "max": 10,
       "min": 1,
       "style": "IPY_MODEL_69baba944be04bea816b503e3628fcf5",
       "value": 5
      }
     },
     "63f61b830a6140ac9b861d1e8acee975": {
      "model_module": "@jupyter-widgets/controls",
      "model_module_version": "1.4.0",
      "model_name": "VBoxModel",
      "state": {
       "_dom_classes": [
        "widget-interact"
       ],
       "children": [
        "IPY_MODEL_459b4a84eeba474982d99d4807e26f17",
        "IPY_MODEL_8654ce1fb5a4410e990b82cc3cffa762",
        "IPY_MODEL_c532fa5b34da4c3cb59d622f95def142"
       ],
       "layout": "IPY_MODEL_1194c3f0db524a9d84083c96d5fc7ab6"
      }
     },
     "69baba944be04bea816b503e3628fcf5": {
      "model_module": "@jupyter-widgets/controls",
      "model_module_version": "1.4.0",
      "model_name": "SliderStyleModel",
      "state": {
       "description_width": ""
      }
     },
     "75d5b7e3cd71468cad1f3896349863e9": {
      "model_module": "@jupyter-widgets/base",
      "model_module_version": "1.1.0",
      "model_name": "LayoutModel",
      "state": {}
     },
     "8654ce1fb5a4410e990b82cc3cffa762": {
      "model_module": "@jupyter-widgets/controls",
      "model_module_version": "1.4.0",
      "model_name": "IntSliderModel",
      "state": {
       "description": "n",
       "layout": "IPY_MODEL_362ba90b541648819d1880cb4c21f5cb",
       "max": 10,
       "min": 1,
       "style": "IPY_MODEL_2833a486a19944adadb8bafa6b45c922",
       "value": 5
      }
     },
     "c532fa5b34da4c3cb59d622f95def142": {
      "model_module": "@jupyter-widgets/output",
      "model_module_version": "1.0.0",
      "model_name": "OutputModel",
      "state": {
       "layout": "IPY_MODEL_75d5b7e3cd71468cad1f3896349863e9",
       "outputs": [
        {
         "data": {
          "image/png": "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\n",
          "text/plain": "<Figure size 432x288 with 1 Axes>"
         },
         "metadata": {
          "needs_background": "light"
         },
         "output_type": "display_data"
        },
        {
         "data": {
          "image/png": "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\n",
          "text/plain": "<Figure size 432x288 with 1 Axes>"
         },
         "metadata": {
          "needs_background": "light"
         },
         "output_type": "display_data"
        }
       ]
      }
     },
     "f94c43922f1f452a811d7f2078c87462": {
      "model_module": "@jupyter-widgets/base",
      "model_module_version": "1.1.0",
      "model_name": "LayoutModel",
      "state": {}
     }
    },
    "version_major": 2,
    "version_minor": 0
   }
  }
 },
 "nbformat": 4,
 "nbformat_minor": 2
}
