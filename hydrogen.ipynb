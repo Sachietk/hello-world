{
 "cells": [
  {
   "cell_type": "code",
   "execution_count": 126,
   "metadata": {},
   "outputs": [],
   "source": [
    "from scipy.special import *\n",
    "from sympy import *\n",
    "import numpy as np\n",
    "import matplotlib.pyplot as plt\n",
    "x=Symbol(\"x\")\n"
   ]
  },
  {
   "cell_type": "code",
   "execution_count": 97,
   "metadata": {},
   "outputs": [],
   "source": [
    "from ipywidgets import *\n",
    "from math import factorial as fac"
   ]
  },
  {
   "cell_type": "code",
   "execution_count": 148,
   "metadata": {},
   "outputs": [
    {
     "data": {
      "application/vnd.jupyter.widget-view+json": {
       "model_id": "710a88232af443caae507bac49e7695c",
       "version_major": 2,
       "version_minor": 0
      },
      "text/plain": [
       "interactive(children=(IntSlider(value=2, description='n', max=3, min=1), IntSlider(value=1, description='l', m…"
      ]
     },
     "metadata": {},
     "output_type": "display_data"
    }
   ],
   "source": [
    "@interact\n",
    "def wave(n=(1,3,1),l=(0,2,1)):\n",
    "    p={0:\"s\",1:\"p\",2:\"d\"}\n",
    "    print(n,p[l])\n",
    "    x=Symbol(\"x\")\n",
    "    nlag=n-l-1\n",
    "    alag=2*l+1\n",
    "    m=0\n",
    "    v=list(genlaguerre(nlag,alag))\n",
    "    print(v)\n",
    "    for i in range(0,nlag+1):\n",
    "        m+=v[i]*x**(nlag-i)\n",
    "    r=np.linspace(0,45*52.9*10**-12,1000)\n",
    "    ra=r/(52.9*10**-12)\n",
    "    o=(2/(n*52.9*10**-12))\n",
    "    f=o*(l+(3/2))\n",
    "    s=np.sqrt(fac(n-l-1)/(2*n*fac(n+l)))\n",
    "    t=(r**l)*(np.exp(-ra/n))\n",
    "    lag=[]\n",
    "    for i in ra:\n",
    "        b=2*i/n\n",
    "        lag.append(m.subs({x:b}))\n",
    "    lag=np.array(lag)\n",
    "    R=f*s*lag*t\n",
    "    plt.plot(ra,R)\n",
    "    plt.grid()\n",
    "    plt.xlim(0,40)\n",
    "    plt.legend([\"n= \"+str(n)+\"\\nl= \"+str(l)+\"\\n\"+str(n)+str(p[l])])\n",
    "    plt.xlabel(\"$r/a_{\\mu}$\")\n",
    "    plt.ylabel(\"$R_{\"+str(n)+\",\"+str(l)+\"}(r)$\")   \n",
    "    plt.show()\n",
    "    \n",
    "    plt.plot(ra,r**2*R**2)\n",
    "    plt.grid()\n",
    "    plt.xlim(0,40)\n",
    "    plt.legend([\"n= \"+str(n)+\"\\nl= \"+str(l)+\"\\n\"+str(n)+str(p[l])])\n",
    "    plt.xlabel(\"$r/a_{\\mu}$\")\n",
    "    plt.ylabel(\"$r^{2}R^{2}_{\"+str(n)+\",\"+str(l)+\"}(r)$\")"
   ]
  },
  {
   "cell_type": "code",
   "execution_count": 125,
   "metadata": {},
   "outputs": [
    {
     "data": {
      "text/plain": [
       "array([2, 3, 4])"
      ]
     },
     "execution_count": 125,
     "metadata": {},
     "output_type": "execute_result"
    }
   ],
   "source": []
  }
 ],
 "metadata": {
  "kernelspec": {
   "display_name": "Python 3",
   "language": "python",
   "name": "python3"
  },
  "language_info": {
   "codemirror_mode": {
    "name": "ipython",
    "version": 3
   },
   "file_extension": ".py",
   "mimetype": "text/x-python",
   "name": "python",
   "nbconvert_exporter": "python",
   "pygments_lexer": "ipython3",
   "version": "3.7.1"
  }
 },
 "nbformat": 4,
 "nbformat_minor": 2
}
